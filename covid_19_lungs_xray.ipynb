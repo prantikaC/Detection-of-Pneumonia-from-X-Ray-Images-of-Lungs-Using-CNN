{
 "cells": [
  {
   "cell_type": "code",
   "execution_count": 1,
   "metadata": {},
   "outputs": [],
   "source": [
    "import os\n",
    "trainDir = '/home/prantika/Desktop/covid19_LUNGS/xray_dataset_covid19/train'\n",
    "validDir ='/home/prantika/Desktop/covid19_LUNGS/xray_dataset_covid19/test'\n",
    "trainNormDir = os.path.join(trainDir, 'NORMAL')\n",
    "trainPneumDir = os.path.join(trainDir, 'PNEUMONIA')\n",
    "validNormDir = os.path.join(validDir, 'NORMAL')\n",
    "validaPneumDir = os.path.join(validDir, 'PNEMONIA')"
   ]
  },
  {
   "cell_type": "code",
   "execution_count": null,
   "metadata": {},
   "outputs": [],
   "source": []
  },
  {
   "cell_type": "code",
   "execution_count": null,
   "metadata": {},
   "outputs": [],
   "source": []
  },
  {
   "cell_type": "code",
   "execution_count": null,
   "metadata": {},
   "outputs": [],
   "source": []
  },
  {
   "cell_type": "code",
   "execution_count": 2,
   "metadata": {},
   "outputs": [],
   "source": [
    "from tensorflow.keras import layers\n",
    "from tensorflow.keras import models\n",
    "from tensorflow.keras.optimizers import RMSprop, Adam\n",
    "\n",
    "import matplotlib.pyplot as plt"
   ]
  },
  {
   "cell_type": "code",
   "execution_count": 3,
   "metadata": {},
   "outputs": [],
   "source": [
    "import logging\n",
    "logging.getLogger('tensorflow').disabled = True"
   ]
  },
  {
   "cell_type": "code",
   "execution_count": 4,
   "metadata": {},
   "outputs": [
    {
     "name": "stdout",
     "output_type": "stream",
     "text": [
      "Found 148 images belonging to 2 classes.\n",
      "Found 40 images belonging to 2 classes.\n"
     ]
    }
   ],
   "source": [
    "from tensorflow.keras.preprocessing.image import ImageDataGenerator\n",
    "\n",
    "# All images will be rescaled by 1./255\n",
    "trDataGen = ImageDataGenerator(rescale=1./255)\n",
    "valDataGen = ImageDataGenerator(rescale=1./255)\n",
    "\n",
    "# Flow training images in batches of 20 using train_datagen generator\n",
    "trainGen = trDataGen.flow_from_directory(\n",
    "        trainDir,  # This is the source directory for training images\n",
    "        target_size=(150, 150),  # All images will be resized to 150x150\n",
    "        batch_size=20,\n",
    "        # Since we use binary_crossentropy loss, we need binary labels\n",
    "        class_mode='binary')\n",
    "\n",
    "# Flow validation images in batches of 20 using val_datagen generator\n",
    "valGen = valDataGen.flow_from_directory(\n",
    "        validDir,\n",
    "        target_size=(150, 150),\n",
    "        batch_size=20,\n",
    "        class_mode='binary')"
   ]
  },
  {
   "cell_type": "code",
   "execution_count": 5,
   "metadata": {},
   "outputs": [],
   "source": [
    "# Our input feature map is 150x150x3: 150x150 for the image pixels, and 3 for\n",
    "# the three color channels: R, G, and B\n",
    "inputImage= layers.Input(shape=(150, 150, 3))\n",
    "\n",
    "# First convolution extracts 16 filters that are 3x3\n",
    "# Convolution is followed by max-pooling layer with a 2x2 window\n",
    "x = layers.Conv2D(filters = 16, kernel_size = (3, 3), activation='relu', padding = 'same')(inputImage)\n",
    "x = layers.MaxPooling2D(2)(x)\n",
    "\n",
    "# Second convolution extracts 32 filters that are 3x3\n",
    "# Convolution is followed by max-pooling layer with a 2x2 window\n",
    "x = layers.Conv2D(filters = 32, kernel_size = (3, 3), activation='relu', padding = 'same')(x)\n",
    "x = layers.MaxPooling2D(pool_size = (2, 2))(x)\n",
    "\n",
    "# Third convolution extracts 64 filters that are 3x3\n",
    "# Convolution is followed by max-pooling layer with a 2x2 window\n",
    "x = layers.Conv2D(filters = 64, kernel_size = (3, 3), activation='relu', padding = 'same')(x)\n",
    "x = layers.MaxPooling2D(pool_size = (2, 2))(x)\n",
    "\n",
    "# Fourth convolution extracts 128 filters that are 3x3\n",
    "# Convolution is followed by max-pooling layer with a 2x2 window\n",
    "x = layers.Conv2D(filters = 128, kernel_size = (3, 3), activation='relu', padding = 'same')(x)\n",
    "x = layers.MaxPooling2D(pool_size = (2, 2))(x)\n",
    "\n",
    "# Fifth convolution extracts 256 filters that are 3x3\n",
    "# Convolution is followed by max-pooling layer with a 2x2 window\n",
    "x = layers.Conv2D(filters = 256, kernel_size = (3, 3), activation='relu', padding = 'same')(x)\n",
    "x = layers.MaxPooling2D(pool_size = (2, 2))(x)"
   ]
  },
  {
   "cell_type": "code",
   "execution_count": 6,
   "metadata": {},
   "outputs": [],
   "source": [
    "# Flatten feature map to a 1-dim tensor so we can add fully connected layers\n",
    "x = layers.Flatten()(x)\n",
    "\n",
    "# Create a fully connected layer with ReLU activation and 512 hidden units\n",
    "x = layers.Dense(512, activation='relu')(x)\n",
    "\n",
    "# Create output layer with a single node and sigmoid activation\n",
    "output = layers.Dense(1, activation='sigmoid')(x)\n",
    "\n",
    "# Create model:\n",
    "# input = input feature map\n",
    "# output = input feature map + stacked convolution/maxpooling layers + fully \n",
    "# connected layer + sigmoid output layer\n",
    "model = models.Model(inputImage, output)"
   ]
  },
  {
   "cell_type": "code",
   "execution_count": 7,
   "metadata": {},
   "outputs": [],
   "source": [
    "model.compile(loss = 'binary_crossentropy', optimizer = Adam(lr= 0.001), metrics = ['acc'])"
   ]
  },
  {
   "cell_type": "code",
   "execution_count": 8,
   "metadata": {},
   "outputs": [
    {
     "name": "stdout",
     "output_type": "stream",
     "text": [
      "Epoch 1/10\n",
      "7/8 [=========================>....] - ETA: 0s - loss: 0.7190 - acc: 0.5156Epoch 1/10\n",
      "8/8 [==============================] - 6s 757ms/step - loss: 0.7156 - acc: 0.5203 - val_loss: 0.6833 - val_acc: 0.8750\n",
      "Epoch 2/10\n",
      "7/8 [=========================>....] - ETA: 0s - loss: 0.6869 - acc: 0.5625Epoch 1/10\n",
      "8/8 [==============================] - 5s 634ms/step - loss: 0.6827 - acc: 0.5608 - val_loss: 0.6400 - val_acc: 0.6750\n",
      "Epoch 3/10\n",
      "7/8 [=========================>....] - ETA: 0s - loss: 0.6006 - acc: 0.6786Epoch 1/10\n",
      "8/8 [==============================] - 5s 602ms/step - loss: 0.5871 - acc: 0.6892 - val_loss: 0.3332 - val_acc: 0.8250\n",
      "Epoch 4/10\n",
      "7/8 [=========================>....] - ETA: 0s - loss: 0.3475 - acc: 0.8516Epoch 1/10\n",
      "8/8 [==============================] - 5s 650ms/step - loss: 0.3768 - acc: 0.8311 - val_loss: 0.0623 - val_acc: 0.9750\n",
      "Epoch 5/10\n",
      "7/8 [=========================>....] - ETA: 0s - loss: 0.2951 - acc: 0.8984Epoch 1/10\n",
      "8/8 [==============================] - 5s 611ms/step - loss: 0.2827 - acc: 0.8919 - val_loss: 0.0840 - val_acc: 0.9750\n",
      "Epoch 6/10\n",
      "7/8 [=========================>....] - ETA: 0s - loss: 0.1567 - acc: 0.9453Epoch 1/10\n",
      "8/8 [==============================] - 5s 623ms/step - loss: 0.1647 - acc: 0.9459 - val_loss: 0.0712 - val_acc: 0.9750\n",
      "Epoch 7/10\n",
      "7/8 [=========================>....] - ETA: 0s - loss: 0.1443 - acc: 0.9453Epoch 1/10\n",
      "8/8 [==============================] - 5s 611ms/step - loss: 0.1454 - acc: 0.9459 - val_loss: 0.0029 - val_acc: 1.0000\n",
      "Epoch 8/10\n",
      "7/8 [=========================>....] - ETA: 0s - loss: 0.1060 - acc: 0.9609Epoch 1/10\n",
      "8/8 [==============================] - 5s 596ms/step - loss: 0.0916 - acc: 0.9662 - val_loss: 0.0658 - val_acc: 0.9750\n",
      "Epoch 9/10\n",
      "7/8 [=========================>....] - ETA: 0s - loss: 0.0695 - acc: 0.9531Epoch 1/10\n",
      "8/8 [==============================] - 5s 653ms/step - loss: 0.0845 - acc: 0.9459 - val_loss: 0.2663 - val_acc: 0.9000\n",
      "Epoch 10/10\n",
      "7/8 [=========================>....] - ETA: 0s - loss: 0.0452 - acc: 0.9766Epoch 1/10\n",
      "8/8 [==============================] - 5s 667ms/step - loss: 0.0523 - acc: 0.9730 - val_loss: 0.0079 - val_acc: 1.0000\n"
     ]
    }
   ],
   "source": [
    "history = model.fit(trainGen, epochs = 10, validation_data = valGen)"
   ]
  },
  {
   "cell_type": "code",
   "execution_count": 10,
   "metadata": {},
   "outputs": [
    {
     "name": "stdout",
     "output_type": "stream",
     "text": [
      "[[0.]]\n",
      "NORMAL\n"
     ]
    }
   ],
   "source": [
    "# make a prediction for a new image.\n",
    "from keras.preprocessing.image import load_img\n",
    "from keras.preprocessing.image import img_to_array\n",
    "from keras.models import load_model\n",
    "\n",
    "# load and prepare the image\n",
    "def load_image(filename):\n",
    "\t# load the image\n",
    "\timg = load_img(filename, target_size=(150,150))\n",
    "\t# convert to array\n",
    "\timg = img_to_array(img)\n",
    "\t# reshape into a single sample with 3 channels\n",
    "\timg = img.reshape(1,150,150, 3)\n",
    "\t# center pixel data\n",
    "\timg = img.astype('float32')\n",
    "\timg = img - [123.68, 116.779, 103.939]\n",
    "\treturn img\n",
    "\n",
    "# load an image and predict the class\n",
    "\t# load the image\n",
    "img = load_image('/home/prantika/Desktop/covid19_LUNGS/xray_dataset_covid19/test/NORMAL/NORMAL2-IM-0092-0001.jpeg')\n",
    "# predict the class\n",
    "result = model.predict(img)\n",
    "print(result)\n",
    "if(result[0]>0.5):\n",
    "  print(\"PNEUMONIA\")\n",
    "else:\n",
    "  print(\"NORMAL\")"
   ]
  },
  {
   "cell_type": "code",
   "execution_count": 11,
   "metadata": {},
   "outputs": [
    {
     "name": "stdout",
     "output_type": "stream",
     "text": [
      "dict_keys(['loss', 'acc', 'val_loss', 'val_acc'])\n"
     ]
    }
   ],
   "source": [
    "# list all data in history\n",
    "print(history.history.keys())"
   ]
  },
  {
   "cell_type": "code",
   "execution_count": 9,
   "metadata": {},
   "outputs": [
    {
     "data": {
      "image/png": "[encoded data removed]",
      "text/plain": [
       "<Figure size 432x288 with 1 Axes>"
      ]
     },
     "metadata": {
      "needs_background": "light"
     },
     "output_type": "display_data"
    },
    {
     "data": {
      "image/png": "[encoded data removed]",
      "text/plain": [
       "<Figure size 432x288 with 1 Axes>"
      ]
     },
     "metadata": {
      "needs_background": "light"
     },
     "output_type": "display_data"
    }
   ],
   "source": [
    "# summarize history for accuracy\n",
    "plt.plot(history.history['acc'])\n",
    "plt.plot(history.history['val_acc'])\n",
    "plt.title('model accuracy')\n",
    "plt.ylabel('accuracy')\n",
    "plt.xlabel('epoch')\n",
    "plt.legend(['train', 'test'], loc='upper left')\n",
    "plt.show()\n",
    "# summarize history for loss\n",
    "plt.plot(history.history['loss'])\n",
    "plt.plot(history.history['val_loss'])\n",
    "plt.title('model loss')\n",
    "plt.ylabel('loss')\n",
    "plt.xlabel('epoch')\n",
    "plt.legend(['train', 'test'], loc='upper left')\n",
    "plt.show()"
   ]
  },
  {
   "cell_type": "code",
   "execution_count": null,
   "metadata": {},
   "outputs": [],
   "source": []
  }
 ],
 "metadata": {
  "kernelspec": {
   "display_name": "Python 3",
   "language": "python",
   "name": "python3"
  },
  "language_info": {
   "codemirror_mode": {
    "name": "ipython",
    "version": 3
   },
   "file_extension": ".py",
   "mimetype": "text/x-python",
   "name": "python",
   "nbconvert_exporter": "python",
   "pygments_lexer": "ipython3",
   "version": "3.7.3"
  }
 },
 "nbformat": 4,
 "nbformat_minor": 2
}
